{
 "cells": [
  {
   "cell_type": "markdown",
   "id": "251bdb8e-70f9-4c21-b727-019bd6ce92c6",
   "metadata": {},
   "source": [
    "# ML Models for Predicting Number of Hotel Clicks "
   ]
  },
  {
   "cell_type": "markdown",
   "id": "dffc8318-62c8-4485-910a-d2976d52bee4",
   "metadata": {},
   "source": [
    "Suppose we have a dataset (`hotel_clicks.csv`) which only records the daily number of hotel clicks from Janurary to August in 2020. Here we want to empoy machine learning models to predict this number across September 2020. "
   ]
  },
  {
   "cell_type": "code",
   "execution_count": 2,
   "id": "c41744bc-bbf9-46c2-8b89-6e86e3e337a7",
   "metadata": {},
   "outputs": [],
   "source": [
    "import numpy as np\n",
    "import pandas as pd\n",
    "import matplotlib.pyplot as plt\n",
    "%matplotlib inline\n",
    "import warnings\n",
    "warnings.filterwarnings(\"ignore\")"
   ]
  },
  {
   "cell_type": "markdown",
   "id": "e7cd440e-1578-4115-9b7e-b13762ddfae0",
   "metadata": {
    "tags": []
   },
   "source": [
    "**STEP 1: Load and Inspect Data**"
   ]
  },
  {
   "cell_type": "code",
   "execution_count": 6,
   "id": "02e3cfe8-0d7d-4c5c-99b6-ee1fe4cf00a0",
   "metadata": {},
   "outputs": [
    {
     "data": {
      "text/html": [
       "<div>\n",
       "<style scoped>\n",
       "    .dataframe tbody tr th:only-of-type {\n",
       "        vertical-align: middle;\n",
       "    }\n",
       "\n",
       "    .dataframe tbody tr th {\n",
       "        vertical-align: top;\n",
       "    }\n",
       "\n",
       "    .dataframe thead th {\n",
       "        text-align: right;\n",
       "    }\n",
       "</style>\n",
       "<table border=\"1\" class=\"dataframe\">\n",
       "  <thead>\n",
       "    <tr style=\"text-align: right;\">\n",
       "      <th></th>\n",
       "      <th>Unnamed: 0</th>\n",
       "      <th>date</th>\n",
       "      <th>clicks</th>\n",
       "    </tr>\n",
       "  </thead>\n",
       "  <tbody>\n",
       "    <tr>\n",
       "      <th>0</th>\n",
       "      <td>0</td>\n",
       "      <td>20200101</td>\n",
       "      <td>19800</td>\n",
       "    </tr>\n",
       "    <tr>\n",
       "      <th>1</th>\n",
       "      <td>1</td>\n",
       "      <td>20200102</td>\n",
       "      <td>22659</td>\n",
       "    </tr>\n",
       "    <tr>\n",
       "      <th>2</th>\n",
       "      <td>2</td>\n",
       "      <td>20200103</td>\n",
       "      <td>22606</td>\n",
       "    </tr>\n",
       "    <tr>\n",
       "      <th>3</th>\n",
       "      <td>3</td>\n",
       "      <td>20200104</td>\n",
       "      <td>20735</td>\n",
       "    </tr>\n",
       "    <tr>\n",
       "      <th>4</th>\n",
       "      <td>4</td>\n",
       "      <td>20200105</td>\n",
       "      <td>21988</td>\n",
       "    </tr>\n",
       "  </tbody>\n",
       "</table>\n",
       "</div>"
      ],
      "text/plain": [
       "   Unnamed: 0      date  clicks\n",
       "0           0  20200101   19800\n",
       "1           1  20200102   22659\n",
       "2           2  20200103   22606\n",
       "3           3  20200104   20735\n",
       "4           4  20200105   21988"
      ]
     },
     "execution_count": 6,
     "metadata": {},
     "output_type": "execute_result"
    }
   ],
   "source": [
    "df = pd.read_csv(\"hotel_clicks.csv\")\n",
    "df.head()"
   ]
  },
  {
   "cell_type": "code",
   "execution_count": 7,
   "id": "4b70046a-ac42-4134-a3e0-8c6e9b1b059c",
   "metadata": {},
   "outputs": [
    {
     "name": "stdout",
     "output_type": "stream",
     "text": [
      "Checking the shape of the data...\n",
      "(242, 3)\n",
      "Checking if there are any nulls...\n",
      "Unnamed: 0    0\n",
      "date          0\n",
      "clicks        0\n",
      "dtype: int64\n",
      "Checking if there are any duplicates...\n",
      "False\n"
     ]
    }
   ],
   "source": [
    "print(\"Checking the shape of the data...\")\n",
    "print(df.shape)\n",
    "print(\"Checking if there are any nulls...\")\n",
    "print(df.isnull().sum())\n",
    "print(\"Checking if there are any duplicates...\")\n",
    "print(len(df) != len(df.drop_duplicates()))"
   ]
  },
  {
   "cell_type": "code",
   "execution_count": 8,
   "id": "f2e45a05-7dd0-47d5-9c56-ad823358536f",
   "metadata": {},
   "outputs": [
    {
     "data": {
      "text/html": [
       "<div>\n",
       "<style scoped>\n",
       "    .dataframe tbody tr th:only-of-type {\n",
       "        vertical-align: middle;\n",
       "    }\n",
       "\n",
       "    .dataframe tbody tr th {\n",
       "        vertical-align: top;\n",
       "    }\n",
       "\n",
       "    .dataframe thead th {\n",
       "        text-align: right;\n",
       "    }\n",
       "</style>\n",
       "<table border=\"1\" class=\"dataframe\">\n",
       "  <thead>\n",
       "    <tr style=\"text-align: right;\">\n",
       "      <th></th>\n",
       "      <th>Unnamed: 0</th>\n",
       "      <th>date</th>\n",
       "      <th>clicks</th>\n",
       "    </tr>\n",
       "  </thead>\n",
       "  <tbody>\n",
       "    <tr>\n",
       "      <th>count</th>\n",
       "      <td>242.000000</td>\n",
       "      <td>2.420000e+02</td>\n",
       "      <td>242.000000</td>\n",
       "    </tr>\n",
       "    <tr>\n",
       "      <th>mean</th>\n",
       "      <td>120.500000</td>\n",
       "      <td>2.020047e+07</td>\n",
       "      <td>19775.735537</td>\n",
       "    </tr>\n",
       "    <tr>\n",
       "      <th>std</th>\n",
       "      <td>70.003571</td>\n",
       "      <td>2.296569e+02</td>\n",
       "      <td>5858.323459</td>\n",
       "    </tr>\n",
       "    <tr>\n",
       "      <th>min</th>\n",
       "      <td>0.000000</td>\n",
       "      <td>2.020010e+07</td>\n",
       "      <td>7902.000000</td>\n",
       "    </tr>\n",
       "    <tr>\n",
       "      <th>25%</th>\n",
       "      <td>60.250000</td>\n",
       "      <td>2.020030e+07</td>\n",
       "      <td>15589.250000</td>\n",
       "    </tr>\n",
       "    <tr>\n",
       "      <th>50%</th>\n",
       "      <td>120.500000</td>\n",
       "      <td>2.020050e+07</td>\n",
       "      <td>18531.000000</td>\n",
       "    </tr>\n",
       "    <tr>\n",
       "      <th>75%</th>\n",
       "      <td>180.750000</td>\n",
       "      <td>2.020068e+07</td>\n",
       "      <td>22577.500000</td>\n",
       "    </tr>\n",
       "    <tr>\n",
       "      <th>max</th>\n",
       "      <td>241.000000</td>\n",
       "      <td>2.020083e+07</td>\n",
       "      <td>39602.000000</td>\n",
       "    </tr>\n",
       "  </tbody>\n",
       "</table>\n",
       "</div>"
      ],
      "text/plain": [
       "       Unnamed: 0          date        clicks\n",
       "count  242.000000  2.420000e+02    242.000000\n",
       "mean   120.500000  2.020047e+07  19775.735537\n",
       "std     70.003571  2.296569e+02   5858.323459\n",
       "min      0.000000  2.020010e+07   7902.000000\n",
       "25%     60.250000  2.020030e+07  15589.250000\n",
       "50%    120.500000  2.020050e+07  18531.000000\n",
       "75%    180.750000  2.020068e+07  22577.500000\n",
       "max    241.000000  2.020083e+07  39602.000000"
      ]
     },
     "execution_count": 8,
     "metadata": {},
     "output_type": "execute_result"
    }
   ],
   "source": [
    "df.describe()"
   ]
  },
  {
   "cell_type": "markdown",
   "id": "094f8360-fa23-4082-b5b8-6fe33745db0c",
   "metadata": {},
   "source": [
    "As seen in the above, there are only two columns `date` and `clicks` and data quality is pretty good (no nulls, duplicates, and anomalies). "
   ]
  },
  {
   "cell_type": "markdown",
   "id": "1ab89411-5594-40d9-9f3a-1f80b52c66ae",
   "metadata": {},
   "source": [
    "**STEP 2: Clean and Prepare Data**"
   ]
  },
  {
   "cell_type": "markdown",
   "id": "2abdb7c5-56b0-4291-bcf4-ed95486bb80c",
   "metadata": {},
   "source": [
    "The purpose of data clean is to deal with nulls, duplicates and anomalies if there are. Since our data quality is already fine, we do not need to clean our data."
   ]
  },
  {
   "cell_type": "markdown",
   "id": "c8cac1b5-d583-4220-936c-1b83645cd286",
   "metadata": {},
   "source": [
    "Now we come to prepare the data for training. For this we convert the `date` column into six columns named `year`, `month`, `date`, `week`,  `dayofweek`, and `dayofyear`."
   ]
  },
  {
   "cell_type": "code",
   "execution_count": 11,
   "id": "f34b22d2-b7e0-4ebb-886d-4b96f940ab6c",
   "metadata": {},
   "outputs": [
    {
     "data": {
      "text/html": [
       "<div>\n",
       "<style scoped>\n",
       "    .dataframe tbody tr th:only-of-type {\n",
       "        vertical-align: middle;\n",
       "    }\n",
       "\n",
       "    .dataframe tbody tr th {\n",
       "        vertical-align: top;\n",
       "    }\n",
       "\n",
       "    .dataframe thead th {\n",
       "        text-align: right;\n",
       "    }\n",
       "</style>\n",
       "<table border=\"1\" class=\"dataframe\">\n",
       "  <thead>\n",
       "    <tr style=\"text-align: right;\">\n",
       "      <th></th>\n",
       "      <th>year</th>\n",
       "      <th>month</th>\n",
       "      <th>date</th>\n",
       "      <th>week</th>\n",
       "      <th>dayofweek</th>\n",
       "      <th>dayofyear</th>\n",
       "      <th>clicks</th>\n",
       "    </tr>\n",
       "  </thead>\n",
       "  <tbody>\n",
       "    <tr>\n",
       "      <th>0</th>\n",
       "      <td>2020</td>\n",
       "      <td>1</td>\n",
       "      <td>1</td>\n",
       "      <td>1</td>\n",
       "      <td>2</td>\n",
       "      <td>1</td>\n",
       "      <td>19800</td>\n",
       "    </tr>\n",
       "    <tr>\n",
       "      <th>1</th>\n",
       "      <td>2020</td>\n",
       "      <td>1</td>\n",
       "      <td>2</td>\n",
       "      <td>1</td>\n",
       "      <td>3</td>\n",
       "      <td>2</td>\n",
       "      <td>22659</td>\n",
       "    </tr>\n",
       "    <tr>\n",
       "      <th>2</th>\n",
       "      <td>2020</td>\n",
       "      <td>1</td>\n",
       "      <td>3</td>\n",
       "      <td>1</td>\n",
       "      <td>4</td>\n",
       "      <td>3</td>\n",
       "      <td>22606</td>\n",
       "    </tr>\n",
       "    <tr>\n",
       "      <th>3</th>\n",
       "      <td>2020</td>\n",
       "      <td>1</td>\n",
       "      <td>4</td>\n",
       "      <td>1</td>\n",
       "      <td>5</td>\n",
       "      <td>4</td>\n",
       "      <td>20735</td>\n",
       "    </tr>\n",
       "    <tr>\n",
       "      <th>4</th>\n",
       "      <td>2020</td>\n",
       "      <td>1</td>\n",
       "      <td>5</td>\n",
       "      <td>1</td>\n",
       "      <td>6</td>\n",
       "      <td>5</td>\n",
       "      <td>21988</td>\n",
       "    </tr>\n",
       "  </tbody>\n",
       "</table>\n",
       "</div>"
      ],
      "text/plain": [
       "   year  month  date  week  dayofweek  dayofyear  clicks\n",
       "0  2020      1     1     1          2          1   19800\n",
       "1  2020      1     2     1          3          2   22659\n",
       "2  2020      1     3     1          4          3   22606\n",
       "3  2020      1     4     1          5          4   20735\n",
       "4  2020      1     5     1          6          5   21988"
      ]
     },
     "execution_count": 11,
     "metadata": {},
     "output_type": "execute_result"
    }
   ],
   "source": [
    "data = df.copy()\n",
    "data[\"date\"] = data[\"date\"].apply(lambda x: pd.to_datetime(str(x), format=\"%Y%m%d\", errors=\"ignore\"))\n",
    "date = data[\"date\"]\n",
    "clicks = data[\"clicks\"]\n",
    "\n",
    "data = pd.DataFrame({\"year\": date.dt.year,\n",
    "                     \"month\": date.dt.month,\n",
    "                     \"date\": date.dt.day,\n",
    "                     \"week\": date.dt.week,\n",
    "                     \"dayofweek\": date.dt.dayofweek,\n",
    "                     \"dayofyear\": date.dt.dayofyear,\n",
    "                     \"clicks\": clicks})\n",
    "data.head()"
   ]
  },
  {
   "cell_type": "markdown",
   "id": "d6666644-625f-47f1-ab11-ecd0d8920de6",
   "metadata": {},
   "source": [
    "Now we get ready to extract input features (`X`) and target output (`Y`) for training. Because the `clicks` column will be used as target output (`Y`) and the `year` column has a constant value of 2020 (no variance), we can simply exclude the `year` and `clicks` columns when extracting input features (`X`). "
   ]
  },
  {
   "cell_type": "code",
   "execution_count": 12,
   "id": "e7c7bfb3-eda3-45b3-9630-766587969e0c",
   "metadata": {},
   "outputs": [],
   "source": [
    "# Prepare X/Y\n",
    "Y = data[\"clicks\"].values\n",
    "exclude = [\"year\", \"clicks\"]\n",
    "X = data.drop(exclude, axis=1)"
   ]
  },
  {
   "cell_type": "markdown",
   "id": "035c0b30-ed6e-4a36-aaa8-51ac5819a217",
   "metadata": {},
   "source": [
    "**STEP 3: Build/Train/Evaluate Models**"
   ]
  },
  {
   "cell_type": "markdown",
   "id": "31683305-d404-46a9-8be7-867412630eb9",
   "metadata": {},
   "source": [
    "With `X` and `Y` prepared, we can now build, train, and evaluate a regression model using `sklearn`. For comparative purposes, we will implement four different regression models, i.e., `Linear Regression`, `Logistic Regression`, `Decision Tree Regressor`, and `Random Forest Regressor`. We will split our data into training and testing sets and evaluate/compare their accuracy scores."
   ]
  },
  {
   "cell_type": "code",
   "execution_count": 13,
   "id": "c1c9d8f1-f081-4744-946c-0574ad11890f",
   "metadata": {},
   "outputs": [
    {
     "name": "stdout",
     "output_type": "stream",
     "text": [
      "----------------------------------\n",
      "Evaluate LinearRegression Model\n",
      "R2 Score = 0.184\n",
      "RMSE Score = 5555.951\n",
      "----------------------------------\n",
      "Evaluate LogisticRegression Model\n",
      "R2 Score = 0.0\n",
      "RMSE Score = 5984.655\n",
      "----------------------------------\n",
      "Evaluate DecisionTreeRegressor Model\n",
      "R2 Score = 0.727\n",
      "RMSE Score = 3214.471\n",
      "----------------------------------\n",
      "Evaluate RandomForestRegressor Model\n",
      "R2 Score = 0.853\n",
      "RMSE Score = 2357.53\n"
     ]
    }
   ],
   "source": [
    "from sklearn.linear_model import LinearRegression\n",
    "from sklearn.linear_model import LogisticRegression\n",
    "from sklearn.tree import DecisionTreeRegressor\n",
    "from sklearn.ensemble import RandomForestRegressor\n",
    "from sklearn.metrics import mean_squared_error\n",
    "from sklearn.model_selection import train_test_split\n",
    "\n",
    "X_Train, X_Test, Y_Train, Y_Test = train_test_split(X, Y, test_size=0.2, random_state=1)\n",
    "\n",
    "models = []\n",
    "models.append((\"LinearRegression\", LinearRegression()))\n",
    "models.append((\"LogisticRegression\", LogisticRegression()))\n",
    "models.append((\"DecisionTreeRegressor\", DecisionTreeRegressor()))\n",
    "models.append((\"RandomForestRegressor\", RandomForestRegressor(random_state=1)))\n",
    "\n",
    "for name, model in models:\n",
    "    print(\"----------------------------------\")\n",
    "    model.fit(X_Train, Y_Train)\n",
    "    print(f\"Evaluate {name} Model\")\n",
    "    R2 = model.score(X_Test, Y_Test).round(decimals=3)\n",
    "    RMSE = np.sqrt(mean_squared_error(y_true=Y_Test, y_pred=model.predict(X_Test))).round(decimals=3)\n",
    "    print(f\"R2 Score = {R2}\")\n",
    "    print(f\"RMSE Score = {RMSE}\")"
   ]
  },
  {
   "cell_type": "markdown",
   "id": "b8fc3fd9-2d7e-4e05-ae6b-65b1d2fd436e",
   "metadata": {},
   "source": [
    "As seen from the R2 and RMSE scores, the `RandomForestRegressor` model gives the best prediction accuracy. Note that for all the models we did not tune any hyper parameters."
   ]
  },
  {
   "cell_type": "markdown",
   "id": "a152bdb7-0d36-4e35-9f63-60a7d8835f9a",
   "metadata": {},
   "source": [
    "### STEP 4: Cross-Validate Models"
   ]
  },
  {
   "cell_type": "markdown",
   "id": "4443c5c1-4325-41cc-8d00-57e5ee1ba0e0",
   "metadata": {},
   "source": [
    "To really make sure that our models were not over fitted, we need to check their cross-validation scores. Here we just take the `RandomForestRegressor` model for this checking."
   ]
  },
  {
   "cell_type": "code",
   "execution_count": 14,
   "id": "35fa2901-8664-4c87-941e-630629f772a8",
   "metadata": {},
   "outputs": [
    {
     "name": "stdout",
     "output_type": "stream",
     "text": [
      "Cross-Validation Results...\n",
      "------------------------\n",
      "Evaluate RandomForestRegressor Model\n",
      "Mean R2 Score = 0.8177662666224347\n",
      "Mean RMSE Score = 2231.42612270567\n"
     ]
    }
   ],
   "source": [
    "from sklearn.model_selection import KFold\n",
    "from sklearn.model_selection import cross_val_score\n",
    "\n",
    "name = \"RandomForestRegressor\"\n",
    "model = RandomForestRegressor(random_state=1)\n",
    "\n",
    "print(\"Cross-Validation Results...\")\n",
    "\n",
    "# Use 10-fold cross validation (90% training, 10% test)\n",
    "cross_validation = KFold(n_splits=10, shuffle=True, random_state=1)\n",
    "scores = cross_val_score(model, X, Y, scoring=\"neg_mean_squared_error\", cv=cross_validation, n_jobs=1)\n",
    "rmse_scores = [np.sqrt(abs(s)) for s in scores]\n",
    "r2_scores = cross_val_score(model, X, Y, scoring=\"r2\", cv=cross_validation, n_jobs=1)\n",
    "\n",
    "mean_r2_score = np.mean(np.abs(r2_scores))\n",
    "mean_rmse_score = np.mean(np.abs(rmse_scores))\n",
    "\n",
    "print(\"------------------------\")\n",
    "print(f\"Evaluate {name} Model\")\n",
    "print(f\"Mean R2 Score = {mean_r2_score}\")\n",
    "print(f\"Mean RMSE Score = {mean_rmse_score}\")"
   ]
  },
  {
   "cell_type": "markdown",
   "id": "bde32426-678a-4f6b-b9a8-ed6b7b488663",
   "metadata": {},
   "source": [
    "From the cross-validation results, we find out that the model was a little over-fitted (but still good). "
   ]
  },
  {
   "cell_type": "markdown",
   "id": "db02e226-0fa8-4965-86df-28f017a78a90",
   "metadata": {},
   "source": [
    "**STEP 5: Tune Hyper-Parameters**"
   ]
  },
  {
   "cell_type": "markdown",
   "id": "566e8513-2c2f-4098-b63d-ed70842e3d4f",
   "metadata": {},
   "source": [
    "Now let's play around with tuning some model parameters to further improve the model accuracy. "
   ]
  },
  {
   "cell_type": "code",
   "execution_count": 15,
   "id": "3ddfbcd3-e67a-412a-9d76-8803c7c1286f",
   "metadata": {},
   "outputs": [
    {
     "name": "stdout",
     "output_type": "stream",
     "text": [
      "Evaluate Best RandomForestRegressor Model\n",
      "R2 Score = 0.849\n",
      "RMSE Score = 2391.521\n"
     ]
    }
   ],
   "source": [
    "from sklearn.model_selection import GridSearchCV\n",
    "\n",
    "n_estimators = [100, 200, 300, 400, 500] # number of random trees\n",
    "max_depth = [2, 4, 6, 8, 10] # number of depth for which tree grows\n",
    "parameters = {\"n_estimators\": n_estimators, \"max_depth\": max_depth}\n",
    "\n",
    "name = \"RandomForestRegressor\"\n",
    "model = RandomForestRegressor(random_state=1)\n",
    "\n",
    "gscv = GridSearchCV(model, parameters, scoring=\"neg_mean_squared_error\")\n",
    "gscv.fit(X_Train, Y_Train)\n",
    "\n",
    "best = gscv.best_estimator_\n",
    "\n",
    "best.fit(X_Train, Y_Train)\n",
    "print(f\"Evaluate Best {name} Model\")\n",
    "R2 = best.score(X_Test, Y_Test).round(decimals=3)\n",
    "RMSE = np.sqrt(mean_squared_error(y_true=Y_Test, y_pred=best.predict(X_Test))).round(decimals=3)\n",
    "print(f\"R2 Score = {R2}\")\n",
    "print(f\"RMSE Score = {RMSE}\")"
   ]
  },
  {
   "cell_type": "markdown",
   "id": "146d7a6f-fe15-454c-b0aa-2d501deee861",
   "metadata": {},
   "source": [
    "So the model accuracy does improve by tuning the hyper parameters. In the following, we will use the improved model to predict the daily number of clicks in September 2020. "
   ]
  },
  {
   "cell_type": "markdown",
   "id": "36235c5e-413f-457a-9d1c-6dbcd66b90a3",
   "metadata": {},
   "source": [
    "**STEP 6: Save (and Load) Models**"
   ]
  },
  {
   "cell_type": "markdown",
   "id": "694efd84-7b08-4bb2-aafd-bde1e2e8117e",
   "metadata": {},
   "source": [
    "As seen from the above, it often involves quite a few steps (e.g. from data cleaning/preprocessing to model training/evaluating) to obtain an accurate model, which means it would take a lot of time for a very complex model. In order not to repeat this heavy work, we need to save our models such that we can just load them for reuse in the future."
   ]
  },
  {
   "cell_type": "code",
   "execution_count": 18,
   "id": "f542e561-3b6f-47f0-9d67-a726694212c0",
   "metadata": {},
   "outputs": [
    {
     "data": {
      "text/plain": [
       "['RandomForestRegressor']"
      ]
     },
     "execution_count": 18,
     "metadata": {},
     "output_type": "execute_result"
    }
   ],
   "source": [
    "import joblib\n",
    "joblib.dump(best, f\"{name}\")"
   ]
  },
  {
   "cell_type": "markdown",
   "id": "da2935f5-b0e1-4b86-a6d6-24e703509afd",
   "metadata": {},
   "source": [
    "**STEP 7: Predict/Visualize Data**"
   ]
  },
  {
   "cell_type": "markdown",
   "id": "5c359755-be58-41a4-99d7-dc03d4a11ddd",
   "metadata": {},
   "source": [
    "Now we use our saved models without and with improvement to predict the daily number of clicks in September 2020. "
   ]
  },
  {
   "cell_type": "markdown",
   "id": "3c4f3b35-0151-47be-a089-b020e882b1e6",
   "metadata": {},
   "source": [
    "We first create a new dataset with only one column named `date`, which writes all the dates from 01-09-2020 to 30-09-2020."
   ]
  },
  {
   "cell_type": "code",
   "execution_count": 19,
   "id": "5ecce413-2062-49dc-8288-33dca053741c",
   "metadata": {},
   "outputs": [],
   "source": [
    "# Create a new dataframe\n",
    "sep = [\"202009%02d\" % day for day in range(1, 31)]\n",
    "df2 = pd.DataFrame({\"date\": sep})"
   ]
  },
  {
   "cell_type": "markdown",
   "id": "57cff9d3-6f38-4a71-a063-3fdf44702364",
   "metadata": {},
   "source": [
    "Next we convert the `date_ymd` column into six columns named `year`, `month`, `date`, `week`,  `dayofweek`, and `dayofyear`."
   ]
  },
  {
   "cell_type": "code",
   "execution_count": 20,
   "id": "af501d6a-63ed-458f-a1a9-652979ade648",
   "metadata": {},
   "outputs": [],
   "source": [
    "data2 = df2.copy()\n",
    "data2[\"date\"] = data2[\"date\"].apply(lambda x: pd.to_datetime(str(x), format=\"%Y%m%d\", errors=\"ignore\"))\n",
    "date = data2[\"date\"]\n",
    "data2 = pd.DataFrame({\"year\": date.dt.year,\n",
    "                      \"month\": date.dt.month,\n",
    "                      \"date\": date.dt.day,\n",
    "                      \"week\": date.dt.week,\n",
    "                      \"dayofweek\": date.dt.dayofweek,\n",
    "                      \"dayofyear\": date.dt.dayofyear})"
   ]
  },
  {
   "cell_type": "markdown",
   "id": "4a9278cf-0059-42ff-a044-54fc272e4c8c",
   "metadata": {},
   "source": [
    "Now let's predict and visualize the daily number of clicks in September 2020."
   ]
  },
  {
   "cell_type": "code",
   "execution_count": 21,
   "id": "c86a8fe3-327e-4ded-a24b-99032b1fdbc7",
   "metadata": {},
   "outputs": [
    {
     "data": {
      "image/png": "[encoded data removed]",
      "text/plain": [
       "<Figure size 648x216 with 1 Axes>"
      ]
     },
     "metadata": {
      "needs_background": "light"
     },
     "output_type": "display_data"
    }
   ],
   "source": [
    "# Load the model\n",
    "model = joblib.load(f\"{name}\")\n",
    "\n",
    "X_Sep = data2.drop(\"year\", axis=1)\n",
    "Y_Sep_Predict = model.predict(X_Sep).round(decimals=0).astype(int)\n",
    "\n",
    "df2[\"clicks\"] = Y_Sep_Predict\n",
    "p = df2.copy()\n",
    "p[\"date\"] = p[\"date\"].apply(lambda x: pd.to_datetime(str(x), format=\"%Y%m%d\"))\n",
    "\n",
    "plt.figure(figsize=(9, 3))\n",
    "x = p[\"date\"].values\n",
    "y = p[\"clicks\"].values\n",
    "plt.plot(x, y, \"ro-\", lw=2, ms=5)\n",
    "plt.xticks(rotation=45)\n",
    "plt.xlabel(\"Date\", fontsize=15)\n",
    "plt.ylabel(\"Number of clicks\", fontsize=15)\n",
    "plt.show()"
   ]
  },
  {
   "cell_type": "markdown",
   "id": "d780dee1-660f-47d5-a3c6-dfe190561a3e",
   "metadata": {},
   "source": [
    "Finally let's merge the two datasets `df1` and `df2` together and plot both the actual and predicted daily numbers of clicks from 2019-01-01 to 2019-09-30."
   ]
  },
  {
   "cell_type": "code",
   "execution_count": 23,
   "id": "b5751610-fada-4e90-8301-7cded80b7ba6",
   "metadata": {},
   "outputs": [
    {
     "data": {
      "image/png": "[encoded data removed]",
      "text/plain": [
       "<Figure size 648x216 with 1 Axes>"
      ]
     },
     "metadata": {
      "needs_background": "light"
     },
     "output_type": "display_data"
    }
   ],
   "source": [
    "X_All = np.concatenate([X, X_Sep])\n",
    "Y_All_Predict = model.predict(X_All).round(decimals=0).astype(int)\n",
    "\n",
    "df_all = df.append(df2, sort=False)\n",
    "p = df_all.copy()\n",
    "pp = p.apply(pd.to_numeric) \n",
    "p[\"date\"] = p[\"date\"].apply(lambda x: pd.to_datetime(str(x), format=\"%Y%m%d\"))\n",
    "X1 = p[\"date\"][pp[\"date\"]<=20200831].values\n",
    "X2 = p[\"date\"].values\n",
    "\n",
    "plt.figure(figsize=(9, 3))\n",
    "plt.plot(X1, Y, \"bo-\", lw=2, ms=5, label=\"Actual\")\n",
    "plt.plot(X2, Y_All_Predict, \"ro-\", lw=2, ms=5, label=\"Predicted\")\n",
    "plt.xticks(rotation=45)\n",
    "plt.xlabel(\"Date\", fontsize=15)\n",
    "plt.ylabel(\"Number of clicks\", fontsize=15)\n",
    "plt.legend(fontsize=15)\n",
    "plt.show()"
   ]
  },
  {
   "cell_type": "markdown",
   "id": "15f94117-40e2-4118-88ed-49ce9a3f2591",
   "metadata": {},
   "source": [
    "As seen from the prediction, there is a good agreement between the acutal and predicted values for the daily number of clicks between 2020.01 and 2020.08. Meanwhile, the daily number of clicks in 2020.09 is reduced a lot when compared to that between 2020.07 and 2020.08."
   ]
  },
  {
   "cell_type": "code",
   "execution_count": null,
   "id": "4cb617ec-12da-4122-a301-5d5a67f0b498",
   "metadata": {},
   "outputs": [],
   "source": []
  }
 ],
 "metadata": {
  "kernelspec": {
   "display_name": "Python 3.6.13 64-bit ('base': conda)",
   "language": "python",
   "name": "python3613jvsc74a57bd0bcaef06b848eec2320239edb2b676b83787ee04762e69d65ede02a0475393f93"
  },
  "language_info": {
   "codemirror_mode": {
    "name": "ipython",
    "version": 3
   },
   "file_extension": ".py",
   "mimetype": "text/x-python",
   "name": "python",
   "nbconvert_exporter": "python",
   "pygments_lexer": "ipython3",
   "version": "3.6.13"
  }
 },
 "nbformat": 4,
 "nbformat_minor": 5
}
