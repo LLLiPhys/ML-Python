{
 "cells": [
  {
   "cell_type": "markdown",
   "id": "ce31ffdc-0e84-47e3-96ae-3a7d2a9bbe82",
   "metadata": {},
   "source": [
    "# How Models Work ?"
   ]
  },
  {
   "cell_type": "markdown",
   "id": "7889fd14-c63d-45be-bb66-fe0cf8ea28d4",
   "metadata": {},
   "source": [
    "### Introduction"
   ]
  },
  {
   "cell_type": "markdown",
   "id": "77daedf6-036f-471f-9b1a-3d8fc52b7a72",
   "metadata": {},
   "source": [
    "We'll start with an overview of how machine learning models work and how they are used. This may feel basic if you've done statistical modeling or machine learning before. But no worry we will progress to building powerful models soon.\n",
    "\n",
    "This course will have you build models as you go through following scenario:\n",
    "\n",
    "Your cousin has made millions of dollars speculating on real estate. He's offered to become business partners with you because of your interest in data science. He'll supply the money, and you'll supply models that predict how much various houses are worth.\n",
    "\n",
    "You ask your cousin how he's predicted real estate values in the past. and he says it is just intuition. But more questioning reveals that he's identified price patterns from houses he has seen in the past, and he uses those patterns to make predictions for new houses he is considering. **Machine learning works the same way.**\n",
    "\n",
    "For more details, see https://www.kaggle.com/dansbecker/how-models-work."
   ]
  },
  {
   "cell_type": "code",
   "execution_count": null,
   "id": "3ff51239-69df-4417-8fb2-01f96b004b7c",
   "metadata": {},
   "outputs": [],
   "source": []
  }
 ],
 "metadata": {
  "kernelspec": {
   "display_name": "Python 3.6.13 64-bit ('base': conda)",
   "language": "python",
   "name": "python3613jvsc74a57bd0bcaef06b848eec2320239edb2b676b83787ee04762e69d65ede02a0475393f93"
  },
  "language_info": {
   "codemirror_mode": {
    "name": "ipython",
    "version": 3
   },
   "file_extension": ".py",
   "mimetype": "text/x-python",
   "name": "python",
   "nbconvert_exporter": "python",
   "pygments_lexer": "ipython3",
   "version": "3.6.13"
  }
 },
 "nbformat": 4,
 "nbformat_minor": 5
}
